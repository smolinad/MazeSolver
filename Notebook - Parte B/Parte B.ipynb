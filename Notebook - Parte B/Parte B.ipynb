{
  "nbformat": 4,
  "nbformat_minor": 0,
  "metadata": {
    "colab": {
      "provenance": [],
      "collapsed_sections": []
    },
    "kernelspec": {
      "name": "python3",
      "display_name": "Python 3"
    },
    "language_info": {
      "name": "python"
    }
  },
  "cells": [
    {
      "cell_type": "markdown",
      "source": [
        "# Proyecto 1 \n",
        "### Introducción a la Inteligencia Artificial\n",
        "### Universidad Nacional de Colombia\n",
        "\n",
        "Sebastian Molina\\\n",
        "Maria Sol Botello\\\n",
        "Daniel Rodríguez "
      ],
      "metadata": {
        "id": "_zTnMpmqSfe-"
      }
    },
    {
      "cell_type": "markdown",
      "source": [
        "#1.\n",
        " Explique qué es una heurística en problema del laberinto, proponga dos heurísticas y\n",
        "explique cómo pueden ayudar a resolver mejor el problema del laberinto."
      ],
      "metadata": {
        "id": "Xh_DKN2Hio0u"
      }
    },
    {
      "cell_type": "markdown",
      "source": [],
      "metadata": {
        "id": "P-c3Ox-eSdB_"
      }
    },
    {
      "cell_type": "markdown",
      "source": [
        "En el problema del laberinto una función heurística $h(n)$ estima el mínimo número de movimientos válidos que toma llegar a la salida desde la posición $n$.\n",
        "\n",
        "Dos posibles heurísticas en este ejemplo son:\n",
        "*   Distancia Manhattan: Suma de la distancia vertical y horizontal entre el nodo $n$ y la salida.\n",
        "*   Distancia euclidiana: La longitud del segmento que pasa por el nodo $n$ y la salida.\n",
        "\n",
        "Ambas hallan el camino más rápido cuando no hay obstáculos.\n",
        "\n"
      ],
      "metadata": {
        "id": "D2vw50Xulwx2"
      }
    },
    {
      "cell_type": "markdown",
      "source": [
        "#2. \n",
        "Explique brevemente el algoritmo de búsqueda greedy. En particular, su estrategia de\n",
        "exploración y la representación de la frontera."
      ],
      "metadata": {
        "id": "MHkFex9_isBc"
      }
    },
    {
      "cell_type": "markdown",
      "source": [
        "El algoritmo de búsqueda greedy explora los nodos cuya heurística tiene el menor valor.\n",
        "Es decir, en la representación de la frontera reemplaza el nodo $n$ con menor $h(n)$ por sus nodos hijos. Así la función evaluación es $f(n)=h(n)$"
      ],
      "metadata": {
        "id": "4YQg41H9wqcI"
      }
    },
    {
      "cell_type": "markdown",
      "source": [
        "#3.\n",
        "Explique brevemente el algoritmo A*. En particular, la estrategia de búsqueda y la\n",
        "representación de la frontera."
      ],
      "metadata": {
        "id": "nx4sWNyViu8Q"
      }
    },
    {
      "cell_type": "markdown",
      "source": [
        "En este algoritmo se exploran los nodos cuya heurística más el costo de llegar hasta ellos tienen el menor valor.\n",
        "Así, la función de evaluación es $f(n)= g(n)+h(n)$ donde $g(n)$ es el costo del camino recorrido para llegar al nodo $n$.\n",
        "En la representación de frontera se reemplazan los nodos con menor valor de evaluación por sus hijos."
      ],
      "metadata": {
        "id": "hA-pYD1S495Y"
      }
    },
    {
      "cell_type": "markdown",
      "source": [
        "#4.\n",
        " Un algoritmo de búsqueda se dice admisible si tiene garantía de retornar una solución\n",
        "óptima. Si la función heurística utilizada por A* es admisible, entonces A* es admisible.\n",
        "Explique que es una heurística admisible, y pruebe la afirmación previa."
      ],
      "metadata": {
        "id": "Cg8mzeVhi00p"
      }
    },
    {
      "cell_type": "markdown",
      "source": [
        "Una heurística $h$ es admisible si para todo nodo $n$ se cumple $h(n)<=g(n,a)$ donde $g(n,a)$ es el mínimo costo que toma llegar al objetivo $a$ desde el nodo $n$. Es decir, la heurística $h$ nunca sobreestima el costo de llegar al objetivo.\n"
      ],
      "metadata": {
        "id": "vlTcTfX87zHV"
      }
    },
    {
      "cell_type": "markdown",
      "source": [
        "Sea $a$ nodo solución, supongamos que encontramos $S$ camino hasta $a$ desde el nodo $b$ con costo $s$, por medio de A* con heurística admisible.\n",
        "\n",
        "Sea $T$ camino hacia $a$ con costo $t$, supongamos que $t<s$.\n",
        "\n",
        "Sea $x$ el nodo anterior a $a$ por el camino $S$, existe $y$ nodo en el camino $T$ tal que $f_S(a)<f(y)$.\n",
        "\n",
        "Como $f(y)=g(b,y)+h(y)<=g(b,y)+g(y,a)=t$\n",
        "\n",
        "Luego, $f(y)<=t<s<=f_S(a)$.\n",
        "\n",
        "Contradicción, luego $s<=t$"
      ],
      "metadata": {
        "id": "Tcg-YI3Eb7L2"
      }
    },
    {
      "cell_type": "markdown",
      "source": [
        "#5. \n",
        "Un algoritmo A es óptimamente eficiente con respecto a un conjunto de algoritmos\n",
        "alternativos Alts en un conjunto de problemas P si para cada problema P en P y cada\n",
        "algoritmo A′ en Alts, el conjunto de nodos expandidos por A al resolver P es un subconjunto\n",
        "(posiblemente iguales) del conjunto de nodos expandidos por A′ al resolver P. \n",
        "\n",
        "El estudio\n",
        "definitivo de la optimalizad eficiente de A* se debe a Rina Dechter y Judea Pearl [2]. Quienes\n",
        "consideraron una variedad de definiciones de Alts y P en combinación con la heurística de\n",
        "A* siendo meramente admisible o consistente y admisible. \n",
        "\n",
        "El resultado positivo más\n",
        "interesante que demostraron es que A*, con una heurística consistente, es óptimamente\n",
        "eficiente con respecto a todos los algoritmos de búsqueda similares a A* admisibles en\n",
        "todos los problemas de búsqueda ′′no patológicos′′. Este resultado no se cumple si la\n",
        "heurística de A* es admisible pero no consistente. \n",
        "\n",
        "Explique en que consiste una heurística\n",
        "consistente, muestre un ejemplo de una heurística admisible pero no consistente, y pruebe\n",
        "el resultado de Dechter y Pearl [2]."
      ],
      "metadata": {
        "id": "WsQbyHzdif96"
      }
    },
    {
      "cell_type": "markdown",
      "source": [
        "Una heurística **consistente** es aquella que para cualesquiera nodos $n$ y $p$, se cumple que $h(n)<=g(n,p)+h(p)$.\n",
        "\n",
        "Siendo $a$ el nodo objetivo, supongamos el camino $n$->$p$->$a$ con cada paso de valor 1. Un ejemplo de heurística admisible pero no consistente es con $h(n)=2$ y $h(p)=0$\n",
        "\n",
        "\n"
      ],
      "metadata": {
        "id": "Bi6Kc-sSf2Ah"
      }
    },
    {
      "cell_type": "markdown",
      "source": [
        "Veamos que $A*$, con una heurística consistente, es óptimamente\n",
        "eficiente con respecto a todos los algoritmos de búsqueda similares a A* admisibles en\n",
        "todos los problemas de búsqueda ′′no patológicos′′. \n"
      ],
      "metadata": {
        "id": "HQatqQtNkkZ3"
      }
    },
    {
      "cell_type": "markdown",
      "source": [
        "Un problema de búsqueda **no patológico** es aquel en el cual existe al menos un camino óptimo en el cual\n",
        "$h(n)<g(n,a)$ para todo $n\\neq a$"
      ],
      "metadata": {
        "id": "DxxMrlHzru4e"
      }
    }
  ]
}